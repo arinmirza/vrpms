{
  "nbformat": 4,
  "nbformat_minor": 0,
  "metadata": {
    "colab": {
      "provenance": [],
      "collapsed_sections": [
        "dnb0ZAwjr8YN"
      ]
    },
    "kernelspec": {
      "name": "python3",
      "display_name": "Python 3"
    },
    "language_info": {
      "name": "python"
    }
  },
  "cells": [
    {
      "cell_type": "code",
      "execution_count": null,
      "metadata": {
        "colab": {
          "base_uri": "https://localhost:8080/"
        },
        "id": "357QS_FsIwcJ",
        "outputId": "f014cf20-3c6c-4708-bc16-81f525ecb25a"
      },
      "outputs": [
        {
          "output_type": "stream",
          "name": "stdout",
          "text": [
            "Looking in indexes: https://pypi.gurobi.com\n",
            "Collecting gurobipy\n",
            "  Downloading gurobipy-10.0.2-cp310-cp310-manylinux2014_x86_64.whl (12.7 MB)\n",
            "\u001b[2K     \u001b[90m━━━━━━━━━━━━━━━━━━━━━━━━━━━━━━━━━━━━━━━━\u001b[0m \u001b[32m12.7/12.7 MB\u001b[0m \u001b[31m26.8 MB/s\u001b[0m eta \u001b[36m0:00:00\u001b[0m\n",
            "\u001b[?25hInstalling collected packages: gurobipy\n",
            "Successfully installed gurobipy-10.0.2\n"
          ]
        }
      ],
      "source": [
        "%pip install -i https://pypi.gurobi.com gurobipy"
      ]
    },
    {
      "cell_type": "code",
      "source": [
        "import gurobipy as gp\n",
        "from gurobipy import GRB, quicksum\n",
        "import numpy as np\n",
        "import math"
      ],
      "metadata": {
        "id": "FEdqClLwI1kR"
      },
      "execution_count": null,
      "outputs": []
    },
    {
      "cell_type": "markdown",
      "source": [
        "# STATIC"
      ],
      "metadata": {
        "id": "dnb0ZAwjr8YN"
      }
    },
    {
      "cell_type": "code",
      "source": [
        "def vrp_static_2(d, n, K, Q, T):\n",
        "  b = []\n",
        "  for i in range(n+K):\n",
        "    b.append(int(i < n))\n",
        "\n",
        "  model = gp.Model(\"Travelling Salesman Problem VRP Index 2\")\n",
        "\n",
        "  # Create variables\n",
        "  x = model.addVars(n+K, n+K, vtype=GRB.BINARY, name=\"x\")\n",
        "  y = model.addVars(n+K, n+K, name=\"y\")\n",
        "  z = model.addVars(n+K, name=\"z\")\n",
        "\n",
        "  # Ensure tour\n",
        "  model.addConstrs((quicksum(x[city_1, city_2] for city_2 in range(n+K)) == 1\n",
        "                      for city_1 in range(n+K)), name=\"arrival\")\n",
        "  model.addConstrs((quicksum(x[city_1, city_2] for city_1 in range(n+K)) == 1\n",
        "                      for city_2 in range(n+K)), name=\"departure\")\n",
        "\n",
        "  \"\"\"\n",
        "  # Total number of tours\n",
        "  model.addConstr(quicksum(x[city_1, 0] for city_1 in range(n+1)) ==\n",
        "                  quicksum(x[0, city_2] for city_2 in range(n+1)))\n",
        "  model.addConstr(quicksum(x[0, city_2] for city_2 in range(n+1)) <= K)\n",
        "  \"\"\"\n",
        "\n",
        "  # Demand at location j\n",
        "  model.addConstrs(quicksum(y[city_1, city_2]-y[city_2, city_1] for city_1 in range(n+K)) == b[city_2]\n",
        "                   for city_2 in range(n))\n",
        "\n",
        "  # Total demand\n",
        "  model.addConstr(quicksum(y[city_1, city_2] for city_1 in range(n, n+K) for city_2 in range(n+K)) ==\n",
        "                  quicksum(b[city_2] for city_2 in range(n)))\n",
        "\n",
        "  # Transportation capacity\n",
        "  model.addConstrs((b[city_2]*x[city_1, city_2] <= y[city_1, city_2])\n",
        "                    for city_1 in range(n+K)\n",
        "                    for city_2 in range(n+K))\n",
        "  model.addConstrs((y[city_1, city_2] <= (Q-b[city_1])*x[city_1, city_2])\n",
        "                    for city_1 in range(n+K)\n",
        "                    for city_2 in range(n+K))\n",
        "\n",
        "  # Empty vehicle at the end\n",
        "  model.addConstrs((y[city_2, city_1] == 0) for city_1 in range(n, n+K) for city_2 in range(n+K))\n",
        "\n",
        "  # Subtourelimination constraints\n",
        "  for city_1 in range(n, n+K):\n",
        "      for city_2 in range(n, n+K):\n",
        "          if city_1 != city_2:\n",
        "              model.addConstr(z[city_1] - z[city_2] + K * x[city_1, city_2] <= K - 1)\n",
        "          else:\n",
        "              model.addConstr(x[city_1, city_1] == 0)\n",
        "\n",
        "  # Set objective\n",
        "  model.setObjective(quicksum(d[city_1][city_2] * x[city_1, city_2]\n",
        "                    for city_1 in range(n+K)\n",
        "                    for city_2 in range(n+K)),\n",
        "                     GRB.MINIMIZE)\n",
        "\n",
        "  # Run optimization\n",
        "  model.optimize()\n",
        "\n",
        "  # Get solution\n",
        "  print(\"x\")\n",
        "  solution_x = model.getAttr('x', x)\n",
        "  for city_1 in range(n+K):\n",
        "      for city_2 in range(n+K):\n",
        "          if solution_x[city_1, city_2] > 1e-5:\n",
        "              print('%s -> %s: %g' % (city_1, city_2, solution_x[city_1, city_2]))\n",
        "  print(\"y\")\n",
        "  solution_y = model.getAttr('x', y)\n",
        "  for city_1 in range(n+K):\n",
        "      for city_2 in range(n+K):\n",
        "          if solution_y[city_1, city_2] > 1e-5:\n",
        "              print('%s -> %s: %g' % (city_1, city_2, solution_y[city_1, city_2]))\n",
        "  print(\"Objective: \"+str(model.objVal))"
      ],
      "metadata": {
        "id": "-NsulCiSSpCR"
      },
      "execution_count": null,
      "outputs": []
    },
    {
      "cell_type": "code",
      "source": [
        "K = 3"
      ],
      "metadata": {
        "id": "jjWOFA1tEQRD"
      },
      "execution_count": null,
      "outputs": []
    },
    {
      "cell_type": "code",
      "source": [
        "BIG_COST = 1000000\n",
        "coordinates = [[4, 1], [1, 2], [0, 5], [-3, 3], [-2, 1], [-5, 1], [-5, -1], [-1, -3], [3, -2], [6, -1]]\n",
        "n = len(coordinates)\n",
        "for _ in range(K):\n",
        "  coordinates.append([0, 0])\n",
        "num_cities = len(coordinates)\n",
        "d = []\n",
        "for i, source in enumerate(coordinates):\n",
        "  d_src = []\n",
        "  for j, sink in enumerate(coordinates):\n",
        "    if i == j:\n",
        "      d_src.append(-BIG_COST)\n",
        "    else:\n",
        "      d_x = source[0]-sink[0]\n",
        "      d_y = source[1]-sink[1]\n",
        "      d_src.append(math.sqrt(d_x*d_x+d_y*d_y))\n",
        "  d.append(d_src)\n",
        "  print(d_src)"
      ],
      "metadata": {
        "colab": {
          "base_uri": "https://localhost:8080/"
        },
        "id": "ZkKlL9XOJA2z",
        "outputId": "25f74925-3395-49bf-a2b1-7becd735176a"
      },
      "execution_count": null,
      "outputs": [
        {
          "output_type": "stream",
          "name": "stdout",
          "text": [
            "[-1000000, 3.1622776601683795, 5.656854249492381, 7.280109889280518, 6.0, 9.0, 9.219544457292887, 6.4031242374328485, 3.1622776601683795, 2.8284271247461903, 4.123105625617661, 4.123105625617661, 4.123105625617661]\n",
            "[3.1622776601683795, -1000000, 3.1622776601683795, 4.123105625617661, 3.1622776601683795, 6.082762530298219, 6.708203932499369, 5.385164807134504, 4.47213595499958, 5.830951894845301, 2.23606797749979, 2.23606797749979, 2.23606797749979]\n",
            "[5.656854249492381, 3.1622776601683795, -1000000, 3.605551275463989, 4.47213595499958, 6.4031242374328485, 7.810249675906654, 8.06225774829855, 7.615773105863909, 8.48528137423857, 5.0, 5.0, 5.0]\n",
            "[7.280109889280518, 4.123105625617661, 3.605551275463989, -1000000, 2.23606797749979, 2.8284271247461903, 4.47213595499958, 6.324555320336759, 7.810249675906654, 9.848857801796104, 4.242640687119285, 4.242640687119285, 4.242640687119285]\n",
            "[6.0, 3.1622776601683795, 4.47213595499958, 2.23606797749979, -1000000, 3.0, 3.605551275463989, 4.123105625617661, 5.830951894845301, 8.246211251235321, 2.23606797749979, 2.23606797749979, 2.23606797749979]\n",
            "[9.0, 6.082762530298219, 6.4031242374328485, 2.8284271247461903, 3.0, -1000000, 2.0, 5.656854249492381, 8.54400374531753, 11.180339887498949, 5.0990195135927845, 5.0990195135927845, 5.0990195135927845]\n",
            "[9.219544457292887, 6.708203932499369, 7.810249675906654, 4.47213595499958, 3.605551275463989, 2.0, -1000000, 4.47213595499958, 8.06225774829855, 11.0, 5.0990195135927845, 5.0990195135927845, 5.0990195135927845]\n",
            "[6.4031242374328485, 5.385164807134504, 8.06225774829855, 6.324555320336759, 4.123105625617661, 5.656854249492381, 4.47213595499958, -1000000, 4.123105625617661, 7.280109889280518, 3.1622776601683795, 3.1622776601683795, 3.1622776601683795]\n",
            "[3.1622776601683795, 4.47213595499958, 7.615773105863909, 7.810249675906654, 5.830951894845301, 8.54400374531753, 8.06225774829855, 4.123105625617661, -1000000, 3.1622776601683795, 3.605551275463989, 3.605551275463989, 3.605551275463989]\n",
            "[2.8284271247461903, 5.830951894845301, 8.48528137423857, 9.848857801796104, 8.246211251235321, 11.180339887498949, 11.0, 7.280109889280518, 3.1622776601683795, -1000000, 6.082762530298219, 6.082762530298219, 6.082762530298219]\n",
            "[4.123105625617661, 2.23606797749979, 5.0, 4.242640687119285, 2.23606797749979, 5.0990195135927845, 5.0990195135927845, 3.1622776601683795, 3.605551275463989, 6.082762530298219, -1000000, 0.0, 0.0]\n",
            "[4.123105625617661, 2.23606797749979, 5.0, 4.242640687119285, 2.23606797749979, 5.0990195135927845, 5.0990195135927845, 3.1622776601683795, 3.605551275463989, 6.082762530298219, 0.0, -1000000, 0.0]\n",
            "[4.123105625617661, 2.23606797749979, 5.0, 4.242640687119285, 2.23606797749979, 5.0990195135927845, 5.0990195135927845, 3.1622776601683795, 3.605551275463989, 6.082762530298219, 0.0, 0.0, -1000000]\n"
          ]
        }
      ]
    },
    {
      "cell_type": "code",
      "source": [
        "vrp_static_2(d=d, n=n, K=K, Q=100, T=16)"
      ],
      "metadata": {
        "colab": {
          "base_uri": "https://localhost:8080/"
        },
        "id": "xuUdkymek7qi",
        "outputId": "ec39053d-a8c6-4780-f9b9-8b802ae44f55"
      },
      "execution_count": null,
      "outputs": [
        {
          "output_type": "stream",
          "name": "stdout",
          "text": [
            "Restricted license - for non-production use only - expires 2024-10-28\n",
            "Gurobi Optimizer version 10.0.2 build v10.0.2rc0 (linux64)\n",
            "\n",
            "CPU model: Intel(R) Xeon(R) CPU @ 2.20GHz, instruction set [SSE2|AVX|AVX2]\n",
            "Thread count: 1 physical cores, 2 logical processors, using up to 2 threads\n",
            "\n",
            "Optimize a model with 423 rows, 351 columns and 1314 nonzeros\n",
            "Model fingerprint: 0x2063c545\n",
            "Variable types: 182 continuous, 169 integer (169 binary)\n",
            "Coefficient statistics:\n",
            "  Matrix range     [1e+00, 1e+02]\n",
            "  Objective range  [2e+00, 1e+06]\n",
            "  Bounds range     [1e+00, 1e+00]\n",
            "  RHS range        [1e+00, 1e+01]\n",
            "Presolve removed 140 rows and 72 columns\n",
            "Presolve time: 0.02s\n",
            "Presolved: 283 rows, 279 columns, 1050 nonzeros\n",
            "Variable types: 123 continuous, 156 integer (156 binary)\n",
            "Found heuristic solution: objective 72.3702525\n",
            "Found heuristic solution: objective 66.5726673\n",
            "\n",
            "Root relaxation: objective 3.040379e+01, 206 iterations, 0.01 seconds (0.00 work units)\n",
            "\n",
            "    Nodes    |    Current Node    |     Objective Bounds      |     Work\n",
            " Expl Unexpl |  Obj  Depth IntInf | Incumbent    BestBd   Gap | It/Node Time\n",
            "\n",
            "     0     0   30.40379    0   18   66.57267   30.40379  54.3%     -    0s\n",
            "H    0     0                      47.0657374   30.40379  35.4%     -    0s\n",
            "     0     0   33.58679    0   21   47.06574   33.58679  28.6%     -    0s\n",
            "H    0     0                      41.2598897   33.58679  18.6%     -    0s\n",
            "H    0     0                      39.0327939   33.58679  14.0%     -    0s\n",
            "     0     0   33.82204    0   27   39.03279   33.82204  13.3%     -    0s\n",
            "     0     0   33.82204    0   27   39.03279   33.82204  13.3%     -    0s\n",
            "     0     0   33.87624    0    4   39.03279   33.87624  13.2%     -    0s\n",
            "H    0     0                      33.8762410   33.87624  0.00%     -    0s\n",
            "     0     0   33.87624    0    4   33.87624   33.87624  0.00%     -    0s\n",
            "\n",
            "Cutting planes:\n",
            "  Gomory: 3\n",
            "  Implied bound: 1\n",
            "  MIR: 4\n",
            "  Flow cover: 11\n",
            "  Network: 6\n",
            "\n",
            "Explored 1 nodes (370 simplex iterations) in 0.15 seconds (0.02 work units)\n",
            "Thread count was 2 (of 2 available processors)\n",
            "\n",
            "Solution count 6: 33.8762 39.0328 41.2599 ... 72.3703\n",
            "\n",
            "Optimal solution found (tolerance 1.00e-04)\n",
            "Best objective 3.387624104421e+01, best bound 3.387624104421e+01, gap 0.0000%\n",
            "x\n",
            "0 -> 9: 1\n",
            "1 -> 0: 1\n",
            "2 -> 1: 1\n",
            "3 -> 2: 1\n",
            "4 -> 6: 1\n",
            "5 -> 3: 1\n",
            "6 -> 5: 1\n",
            "7 -> 10: 1\n",
            "8 -> 7: 1\n",
            "9 -> 8: 1\n",
            "10 -> 12: 1\n",
            "11 -> 4: 1\n",
            "12 -> 11: 1\n",
            "y\n",
            "0 -> 9: 3\n",
            "1 -> 0: 4\n",
            "2 -> 1: 5\n",
            "3 -> 2: 6\n",
            "4 -> 6: 9\n",
            "5 -> 3: 7\n",
            "6 -> 5: 8\n",
            "8 -> 7: 1\n",
            "9 -> 8: 2\n",
            "11 -> 4: 10\n",
            "Objective: 33.876241044211326\n"
          ]
        }
      ]
    },
    {
      "cell_type": "code",
      "source": [
        "BIG_COST = 1000000\n",
        "coordinates = [[i+1, i+1] for i in range(3)]\n",
        "n = len(coordinates)\n",
        "for _ in range(K):\n",
        "  coordinates.append([0, 0])\n",
        "num_cities = len(coordinates)\n",
        "d = []\n",
        "for i, source in enumerate(coordinates):\n",
        "  d_src = []\n",
        "  for j, sink in enumerate(coordinates):\n",
        "    if i == j:\n",
        "      d_src.append(-BIG_COST)\n",
        "    else:\n",
        "      d_x = source[0]-sink[0]\n",
        "      d_y = source[1]-sink[1]\n",
        "      d_src.append(math.sqrt(d_x*d_x+d_y*d_y))\n",
        "  d.append(d_src)\n",
        "  print(d_src)"
      ],
      "metadata": {
        "colab": {
          "base_uri": "https://localhost:8080/"
        },
        "id": "Mg7OizJru_vC",
        "outputId": "4e09a3ec-e8da-4a14-90e4-bf8b805b7e08"
      },
      "execution_count": null,
      "outputs": [
        {
          "output_type": "stream",
          "name": "stdout",
          "text": [
            "[-1000000, 1.4142135623730951, 2.8284271247461903, 1.4142135623730951, 1.4142135623730951, 1.4142135623730951]\n",
            "[1.4142135623730951, -1000000, 1.4142135623730951, 2.8284271247461903, 2.8284271247461903, 2.8284271247461903]\n",
            "[2.8284271247461903, 1.4142135623730951, -1000000, 4.242640687119285, 4.242640687119285, 4.242640687119285]\n",
            "[1.4142135623730951, 2.8284271247461903, 4.242640687119285, -1000000, 0.0, 0.0]\n",
            "[1.4142135623730951, 2.8284271247461903, 4.242640687119285, 0.0, -1000000, 0.0]\n",
            "[1.4142135623730951, 2.8284271247461903, 4.242640687119285, 0.0, 0.0, -1000000]\n"
          ]
        }
      ]
    },
    {
      "cell_type": "code",
      "source": [
        "vrp_static_2(d=d, n=n, K=K, Q=100, T=16)"
      ],
      "metadata": {
        "id": "njiQrhKjJLfk",
        "colab": {
          "base_uri": "https://localhost:8080/"
        },
        "outputId": "7a39f464-a8b4-4345-affe-3ed373c66ac7"
      },
      "execution_count": null,
      "outputs": [
        {
          "output_type": "stream",
          "name": "stdout",
          "text": [
            "Gurobi Optimizer version 10.0.2 build v10.0.2rc0 (linux64)\n",
            "\n",
            "CPU model: Intel(R) Xeon(R) CPU @ 2.20GHz, instruction set [SSE2|AVX|AVX2]\n",
            "Thread count: 1 physical cores, 2 logical processors, using up to 2 threads\n",
            "\n",
            "Optimize a model with 115 rows, 78 columns and 285 nonzeros\n",
            "Model fingerprint: 0x54620740\n",
            "Variable types: 42 continuous, 36 integer (36 binary)\n",
            "Coefficient statistics:\n",
            "  Matrix range     [1e+00, 1e+02]\n",
            "  Objective range  [1e+00, 1e+06]\n",
            "  Bounds range     [1e+00, 1e+00]\n",
            "  RHS range        [1e+00, 3e+00]\n",
            "Found heuristic solution: objective 11.3137085\n",
            "Presolve removed 63 rows and 30 columns\n",
            "Presolve time: 0.00s\n",
            "Presolved: 52 rows, 48 columns, 168 nonzeros\n",
            "Variable types: 18 continuous, 30 integer (30 binary)\n",
            "\n",
            "Root relaxation: objective 5.713994e+00, 33 iterations, 0.00 seconds (0.00 work units)\n",
            "\n",
            "    Nodes    |    Current Node    |     Objective Bounds      |     Work\n",
            " Expl Unexpl |  Obj  Depth IntInf | Incumbent    BestBd   Gap | It/Node Time\n",
            "\n",
            "     0     0    5.71399    0    6   11.31371    5.71399  49.5%     -    0s\n",
            "     0     0    8.48528    0    6   11.31371    8.48528  25.0%     -    0s\n",
            "H    0     0                       8.4852814    8.48528  0.00%     -    0s\n",
            "     0     0    8.48528    0    6    8.48528    8.48528  0.00%     -    0s\n",
            "\n",
            "Cutting planes:\n",
            "  Implied bound: 1\n",
            "  MIR: 1\n",
            "  Flow cover: 2\n",
            "\n",
            "Explored 1 nodes (41 simplex iterations) in 0.03 seconds (0.00 work units)\n",
            "Thread count was 2 (of 2 available processors)\n",
            "\n",
            "Solution count 2: 8.48528 11.3137 \n",
            "\n",
            "Optimal solution found (tolerance 1.00e-04)\n",
            "Best objective 8.485281374239e+00, best bound 8.485281374239e+00, gap 0.0000%\n",
            "x\n",
            "0 -> 3: 1\n",
            "1 -> 0: 1\n",
            "2 -> 1: 1\n",
            "3 -> 4: 1\n",
            "4 -> 5: 1\n",
            "5 -> 2: 1\n",
            "y\n",
            "1 -> 0: 1\n",
            "2 -> 1: 2\n",
            "5 -> 2: 3\n",
            "Objective: 8.48528137423857\n"
          ]
        }
      ]
    },
    {
      "cell_type": "markdown",
      "source": [
        "# DYNAMIC"
      ],
      "metadata": {
        "id": "7eUNCfr6rw0W"
      }
    },
    {
      "cell_type": "code",
      "source": [
        "def vrp_dynamic_2(d, n, K, Q, T, UNITS = 20 , BIG_COST = 1000000):\n",
        "  H = len(d)\n",
        "  b = []\n",
        "  for i in range(n+K):\n",
        "    b.append(int(i < n))\n",
        "\n",
        "  model = gp.Model(\"Travelling Salesman Problem VRP Index 2\")\n",
        "\n",
        "  # Create variables\n",
        "  x = model.addVars(n+K, n+K, vtype=GRB.BINARY, name=\"x\")\n",
        "  y = model.addVars(n+K, n+K, name=\"y\")\n",
        "  z = model.addVars(n+K, name=\"z\")\n",
        "  t = model.addVars(n+K, name=\"t\")\n",
        "  h = model.addVars(n+K, H, vtype=GRB.BINARY, name=\"h\")\n",
        "  xh = model.addVars(n+K, n+K, H, vtype=GRB.BINARY, name=\"xh\")\n",
        "  vrp_duration = model.addVar(name=\"vrp_duration\")\n",
        "\n",
        "  # Ensure tour\n",
        "  model.addConstrs((quicksum(x[city_1, city_2] for city_2 in range(n+K)) == 1\n",
        "                      for city_1 in range(n+K)), name=\"arrival\")\n",
        "  model.addConstrs((quicksum(x[city_1, city_2] for city_1 in range(n+K)) == 1\n",
        "                      for city_2 in range(n+K)), name=\"departure\")\n",
        "\n",
        "  \"\"\"\n",
        "  # Total number of tours\n",
        "  model.addConstr(quicksum(x[city_1, 0] for city_1 in range(n+1)) ==\n",
        "                  quicksum(x[0, city_2] for city_2 in range(n+1)))\n",
        "  model.addConstr(quicksum(x[0, city_2] for city_2 in range(n+1)) <= K)\n",
        "  \"\"\"\n",
        "\n",
        "  # Demand at location j\n",
        "  model.addConstrs(quicksum(y[city_1, city_2]-y[city_2, city_1] for city_1 in range(n+K)) == b[city_2]\n",
        "                   for city_2 in range(n))\n",
        "\n",
        "  # Total demand\n",
        "  model.addConstr(quicksum(y[city_1, city_2] for city_1 in range(n, n+K) for city_2 in range(n+K)) ==\n",
        "                  quicksum(b[city_2] for city_2 in range(n)))\n",
        "\n",
        "  # Transportation capacity\n",
        "  model.addConstrs((b[city_2]*x[city_1, city_2] <= y[city_1, city_2])\n",
        "                    for city_1 in range(n+K)\n",
        "                    for city_2 in range(n+K))\n",
        "  model.addConstrs((y[city_1, city_2] <= (Q-b[city_1])*x[city_1, city_2])\n",
        "                    for city_1 in range(n+K)\n",
        "                    for city_2 in range(n+K))\n",
        "\n",
        "  # Empty vehicle at the end\n",
        "  model.addConstrs((y[city_2, city_1] == 0) for city_1 in range(n, n+K) for city_2 in range(n+K))\n",
        "\n",
        "  # Subtourelimination constraints\n",
        "  for city_1 in range(n, n+K):\n",
        "      for city_2 in range(n, n+K):\n",
        "          if city_1 != city_2:\n",
        "              model.addConstr(z[city_1] - z[city_2] + K * x[city_1, city_2] <= K - 1)\n",
        "          else:\n",
        "              model.addConstr(x[city_1, city_1] == 0)\n",
        "\n",
        "  # Hour constraints\n",
        "  model.addConstrs((h[city, hour]*UNITS*hour <= t[city]) for city in range(n+K) for hour in range(H))\n",
        "  model.addConstrs((h[city, hour]*UNITS*(hour+1)-1e-9 + (1-h[city, hour])*BIG_COST >= t[city]) for city in range(n+K) for hour in range(H))\n",
        "  model.addConstrs(quicksum(h[city, hour] for hour in range(H)) == 1 for city in range(n+K))\n",
        "\n",
        "  # x & h constraints\n",
        "  model.addConstrs((x[city_1, city_2] * h[city_1, hour] == xh[city_1, city_2, hour])\n",
        "                   for city_1 in range(n+K) for city_2 in range(n+K) for hour in range(H))\n",
        "\n",
        "  # Time constraints\n",
        "  model.addConstr(t[n] == 0)\n",
        "  for city_2 in range(n+K):\n",
        "      if city_2 != n:\n",
        "          model.addConstr(quicksum(\n",
        "              (xh[city_1, city_2, hour] * (t[city_1] + d[hour][city_1][city_2])) for city_1 in range(n+K) for hour in range(H)) == t[city_2])\n",
        "\n",
        "  # Final distance\n",
        "  model.addConstrs((xh[city_1, n, hour] * (t[city_1] + d[hour][city_1][n]) <= vrp_duration)\n",
        "                    for city_1 in range(n+K) for hour in range(H))\n",
        "  model.addConstr(vrp_duration <= H*UNITS)\n",
        "\n",
        "  # Set objective\n",
        "  model.setObjective(vrp_duration, GRB.MINIMIZE)\n",
        "\n",
        "  # Run optimization\n",
        "  model.optimize()\n",
        "\n",
        "  # Get solution\n",
        "  print(\"x\")\n",
        "  solution_x = model.getAttr('x', x)\n",
        "  for city_1 in range(n+K):\n",
        "      for city_2 in range(n+K):\n",
        "          if solution_x[city_1, city_2] == 1:\n",
        "              print('%s -> %s: %g' % (city_1, city_2, solution_x[city_1, city_2]))\n",
        "  print(\"y\")\n",
        "  solution_y = model.getAttr('x', y)\n",
        "  for city_1 in range(n+K):\n",
        "      for city_2 in range(n+K):\n",
        "          if solution_y[city_1, city_2] > 1e-5:\n",
        "              print('%s -> %s: %g' % (city_1, city_2, solution_y[city_1, city_2]))\n",
        "  print(\"t\")\n",
        "  solution_t = model.getAttr('x', t)\n",
        "  for city in range(n+K):\n",
        "    print('%s: %g' % (city, solution_t[city]))\n",
        "  print(\"h\")\n",
        "  solution_h = model.getAttr('x', h)\n",
        "  for city in range(n+K):\n",
        "      for hour in range(H):\n",
        "          if solution_h[city_1, hour] == 1:\n",
        "              print('%s: %s' % (city, hour))\n",
        "  print(\"Objective: \"+str(model.objVal))"
      ],
      "metadata": {
        "id": "f8UPaTYRq-Rc"
      },
      "execution_count": null,
      "outputs": []
    },
    {
      "cell_type": "code",
      "source": [
        "d_dynamic = []\n",
        "for hour in range(2):\n",
        "  d_new = []\n",
        "  for d_src in d:\n",
        "    d_src_new = []\n",
        "    for val in d_src:\n",
        "      d_src_new.append(val*(hour+1))\n",
        "    d_new.append(d_src_new)\n",
        "  d_dynamic.append(d_new)"
      ],
      "metadata": {
        "id": "47K-cWZbMAig"
      },
      "execution_count": null,
      "outputs": []
    },
    {
      "cell_type": "code",
      "source": [
        "for row in d_dynamic[0]:\n",
        "  print(row)"
      ],
      "metadata": {
        "colab": {
          "base_uri": "https://localhost:8080/"
        },
        "id": "NY1yCeM9xJ4t",
        "outputId": "be336695-d404-4ffd-f9ff-47aed6540724"
      },
      "execution_count": null,
      "outputs": [
        {
          "output_type": "stream",
          "name": "stdout",
          "text": [
            "[-1000000, 1.4142135623730951, 2.8284271247461903, 1.4142135623730951, 1.4142135623730951, 1.4142135623730951]\n",
            "[1.4142135623730951, -1000000, 1.4142135623730951, 2.8284271247461903, 2.8284271247461903, 2.8284271247461903]\n",
            "[2.8284271247461903, 1.4142135623730951, -1000000, 4.242640687119285, 4.242640687119285, 4.242640687119285]\n",
            "[1.4142135623730951, 2.8284271247461903, 4.242640687119285, -1000000, 0.0, 0.0]\n",
            "[1.4142135623730951, 2.8284271247461903, 4.242640687119285, 0.0, -1000000, 0.0]\n",
            "[1.4142135623730951, 2.8284271247461903, 4.242640687119285, 0.0, 0.0, -1000000]\n"
          ]
        }
      ]
    },
    {
      "cell_type": "code",
      "source": [
        "for row in d_dynamic[1]:\n",
        "  print(row)"
      ],
      "metadata": {
        "colab": {
          "base_uri": "https://localhost:8080/"
        },
        "id": "v8OL-RanRGXj",
        "outputId": "e63ff370-16f4-4b61-91d0-812fd7b59c12"
      },
      "execution_count": null,
      "outputs": [
        {
          "output_type": "stream",
          "name": "stdout",
          "text": [
            "[-2000000, 2.8284271247461903, 5.656854249492381, 2.8284271247461903, 2.8284271247461903, 2.8284271247461903]\n",
            "[2.8284271247461903, -2000000, 2.8284271247461903, 5.656854249492381, 5.656854249492381, 5.656854249492381]\n",
            "[5.656854249492381, 2.8284271247461903, -2000000, 8.48528137423857, 8.48528137423857, 8.48528137423857]\n",
            "[2.8284271247461903, 5.656854249492381, 8.48528137423857, -2000000, 0.0, 0.0]\n",
            "[2.8284271247461903, 5.656854249492381, 8.48528137423857, 0.0, -2000000, 0.0]\n",
            "[2.8284271247461903, 5.656854249492381, 8.48528137423857, 0.0, 0.0, -2000000]\n"
          ]
        }
      ]
    },
    {
      "cell_type": "code",
      "source": [
        "vrp_dynamic_2(d=d_dynamic, n=n, K=K, Q=100, T=16)"
      ],
      "metadata": {
        "colab": {
          "base_uri": "https://localhost:8080/"
        },
        "id": "HsP-jA2bUmr3",
        "outputId": "40372035-f8fa-48de-f250-92f141ebabc9"
      },
      "execution_count": null,
      "outputs": [
        {
          "output_type": "stream",
          "name": "stdout",
          "text": [
            "Gurobi Optimizer version 10.0.2 build v10.0.2rc0 (linux64)\n",
            "\n",
            "CPU model: Intel(R) Xeon(R) CPU @ 2.20GHz, instruction set [SSE2|AVX|AVX2]\n",
            "Thread count: 1 physical cores, 2 logical processors, using up to 2 threads\n",
            "\n",
            "Optimize a model with 147 rows, 169 columns and 341 nonzeros\n",
            "Model fingerprint: 0xc3b92be0\n",
            "Model has 89 quadratic constraints\n",
            "Variable types: 49 continuous, 120 integer (120 binary)\n",
            "Coefficient statistics:\n",
            "  Matrix range     [1e+00, 1e+06]\n",
            "  QMatrix range    [1e+00, 1e+00]\n",
            "  QLMatrix range   [1e+00, 2e+06]\n",
            "  Objective range  [1e+00, 1e+00]\n",
            "  Bounds range     [1e+00, 1e+00]\n",
            "  RHS range        [1e+00, 1e+06]\n",
            "Presolve removed 4 rows and 60 columns\n",
            "Presolve time: 0.00s\n",
            "Presolved: 376 rows, 178 columns, 990 nonzeros\n",
            "Variable types: 68 continuous, 110 integer (110 binary)\n",
            "Found heuristic solution: objective 11.3137085\n",
            "\n",
            "Root relaxation: objective 0.000000e+00, 99 iterations, 0.00 seconds (0.00 work units)\n",
            "\n",
            "    Nodes    |    Current Node    |     Objective Bounds      |     Work\n",
            " Expl Unexpl |  Obj  Depth IntInf | Incumbent    BestBd   Gap | It/Node Time\n",
            "\n",
            "     0     0    0.00000    0   16   11.31371    0.00000   100%     -    0s\n",
            "     0     0    0.00000    0   10   11.31371    0.00000   100%     -    0s\n",
            "     0     0    0.00000    0    8   11.31371    0.00000   100%     -    0s\n",
            "H    0     0                       8.4852814    0.00000   100%     -    0s\n",
            "     0     0    0.00000    0   26    8.48528    0.00000   100%     -    0s\n",
            "     0     0    0.00000    0   20    8.48528    0.00000   100%     -    0s\n",
            "     0     0    0.00000    0    6    8.48528    0.00000   100%     -    0s\n",
            "     0     0    0.00000    0   13    8.48528    0.00000   100%     -    0s\n",
            "     0     0    0.00000    0   29    8.48528    0.00000   100%     -    0s\n",
            "     0     0    0.00000    0    3    8.48528    0.00000   100%     -    0s\n",
            "     0     0    0.00000    0   19    8.48528    0.00000   100%     -    0s\n",
            "     0     0    0.00000    0   19    8.48528    0.00000   100%     -    0s\n",
            "     0     2    0.00000    0   13    8.48528    0.00000   100%     -    0s\n",
            "\n",
            "Cutting planes:\n",
            "  Learned: 1\n",
            "  Gomory: 3\n",
            "  Cover: 24\n",
            "  Implied bound: 56\n",
            "  Clique: 3\n",
            "  MIR: 15\n",
            "  Flow cover: 17\n",
            "  Flow path: 2\n",
            "  GUB cover: 1\n",
            "  Zero half: 1\n",
            "  RLT: 2\n",
            "  Relax-and-lift: 11\n",
            "\n",
            "Explored 448 nodes (4617 simplex iterations) in 0.61 seconds (0.12 work units)\n",
            "Thread count was 2 (of 2 available processors)\n",
            "\n",
            "Solution count 2: 8.48528 11.3137 \n",
            "\n",
            "Optimal solution found (tolerance 1.00e-04)\n",
            "Best objective 8.485281374242e+00, best bound 8.485281374242e+00, gap 0.0000%\n",
            "x\n",
            "0 -> 4: 1\n",
            "1 -> 2: 1\n",
            "2 -> 0: 1\n",
            "3 -> 5: 1\n",
            "4 -> 3: 1\n",
            "5 -> 1: 1\n",
            "y\n",
            "1 -> 2: 2\n",
            "2 -> 0: 1\n",
            "5 -> 1: 3\n",
            "t\n",
            "0: 7.07107\n",
            "1: 2.82843\n",
            "2: 4.24264\n",
            "3: 0\n",
            "4: 8.48528\n",
            "5: 0\n",
            "h\n",
            "0: 0\n",
            "1: 0\n",
            "2: 0\n",
            "3: 0\n",
            "4: 0\n",
            "5: 0\n",
            "Objective: 8.485281374241616\n"
          ]
        }
      ]
    },
    {
      "cell_type": "code",
      "source": [],
      "metadata": {
        "id": "--j_0km7yUTN"
      },
      "execution_count": null,
      "outputs": []
    }
  ]
}