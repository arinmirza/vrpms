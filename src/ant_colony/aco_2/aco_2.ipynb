{
 "cells": [
  {
   "cell_type": "code",
   "execution_count": null,
   "outputs": [],
   "source": [
    "from src.ant_colony.aco_2.aco_2 import run"
   ],
   "metadata": {
    "collapsed": false,
    "pycharm": {
     "name": "#%%\n"
    }
   }
  },
  {
   "cell_type": "code",
   "execution_count": null,
   "outputs": [],
   "source": [
    "\"\"\"\n",
    "Gets input data, try different hyperparamater settings and solve VRP with ACO\n",
    "\n",
    ":param n: Number of locations\n",
    ":param k: Max number of cycles\n",
    ":param q: Capacity of vehicle\n",
    ":param per_km_time: Multiplier to calculate duration from distance in km\n",
    ":param n_hyperparams: Number of hyperparamater settings to try\n",
    ":param n_best_hyperparamas: Number of best hyperparamater settings to print\n",
    ":param input_file_load: Path to the input file including loads (required capacities) of locations\n",
    ":param use_google_data: Flag to use Google Maps data or not\n",
    "\"\"\""
   ],
   "metadata": {
    "collapsed": false,
    "pycharm": {
     "name": "#%%\n"
    }
   }
  },
  {
   "cell_type": "code",
   "execution_count": null,
   "outputs": [],
   "source": [
    "n = 8\n",
    "k = 3\n",
    "q = 5\n",
    "per_km_time = 5\n",
    "n_hyperparams = 100\n",
    "n_best_hyperparamas = 3\n",
    "input_file_load = None  # \"../../../data/loads/data_load.txt\"\n",
    "use_google_data = False"
   ],
   "metadata": {
    "collapsed": false,
    "pycharm": {
     "name": "#%%\n"
    }
   }
  },
  {
   "cell_type": "code",
   "execution_count": null,
   "outputs": [],
   "source": [
    "run(n, k, q, per_km_time, n_hyperparams, n_best_hyperparamas, input_file_load, use_google_data)"
   ],
   "metadata": {
    "collapsed": false,
    "pycharm": {
     "name": "#%%\n"
    }
   }
  }
 ],
 "metadata": {
  "kernelspec": {
   "display_name": "Python 3",
   "language": "python",
   "name": "python3"
  },
  "language_info": {
   "codemirror_mode": {
    "name": "ipython",
    "version": 2
   },
   "file_extension": ".py",
   "mimetype": "text/x-python",
   "name": "python",
   "nbconvert_exporter": "python",
   "pygments_lexer": "ipython2",
   "version": "2.7.6"
  }
 },
 "nbformat": 4,
 "nbformat_minor": 0
}